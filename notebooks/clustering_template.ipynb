{
 "cells": [
  {
   "cell_type": "code",
   "execution_count": null,
   "metadata": {},
   "outputs": [],
   "source": [
    "import os\n",
    "\n",
    "os.chdir(\"..\")"
   ]
  },
  {
   "cell_type": "code",
   "execution_count": null,
   "metadata": {},
   "outputs": [],
   "source": [
    "# Import relevant libraries\n",
    "from commons.quiz import *\n",
    "import numpy as np \n",
    "import pandas as pd \n",
    "import matplotlib.pyplot as plt\n",
    "import seaborn as sns\n",
    "import warnings\n",
    "\n",
    "sns.set_style(\"darkgrid\")\n",
    "warnings.filterwarnings('ignore')"
   ]
  },
  {
   "cell_type": "code",
   "execution_count": null,
   "metadata": {},
   "outputs": [],
   "source": [
    "# Import the data\n",
    "file_path: str = \"datasets/mall_customers.csv\"\n",
    "\n",
    "# Read csv file by using specified 'file_path'\n",
    "pass\n",
    "\n",
    "# Drop \"CustomerID\" from 'data'\n",
    "pass\n",
    "\n",
    "# Show first 5 rows\n",
    "pass"
   ]
  },
  {
   "cell_type": "code",
   "execution_count": null,
   "metadata": {},
   "outputs": [],
   "source": [
    "# Encode 'gender' feature into numerical\n",
    "pass"
   ]
  },
  {
   "cell_type": "markdown",
   "metadata": {},
   "source": [
    "### 2 Dimension"
   ]
  },
  {
   "cell_type": "code",
   "execution_count": null,
   "metadata": {},
   "outputs": [],
   "source": [
    "# Specify 2 columns for this topic\n",
    "data_2d: pd.DataFrame = data[[\"Annual Income (k$)\", \"Spending Score (1-100)\"]]\n",
    "data_2d.head()"
   ]
  },
  {
   "cell_type": "code",
   "execution_count": null,
   "metadata": {},
   "outputs": [],
   "source": [
    "from typing import List, Union\n",
    "\n",
    "# Let's see the distribution for these features\n",
    "def plot_scatter(\n",
    "    x: str, \n",
    "    y: str, \n",
    "    data: pd.DataFrame,\n",
    "    **kwargs\n",
    ") -> None:\n",
    "    \"\"\"\n",
    "    Build a scatter plot\n",
    "\n",
    "    Parameters\n",
    "    ----------\n",
    "        x: str\n",
    "            name of column contained in data, representing x-axis\n",
    "\n",
    "        y: str\n",
    "            name of column contained in data, representing y-axis\n",
    "\n",
    "        data: pd.DataFrame\n",
    "            specified data\n",
    "\n",
    "        colors: Union[List[str], pd.Series]\n",
    "            list of colors\n",
    "    \"\"\"\n",
    "    plt.scatter(x=data[x], y=data[y], **kwargs)\n",
    "    plt.title(f\"{x} vs. {y}\")\n",
    "    plt.xlabel(x)\n",
    "    plt.ylabel(y)\n",
    "    plt.show()"
   ]
  },
  {
   "cell_type": "code",
   "execution_count": null,
   "metadata": {},
   "outputs": [],
   "source": [
    "# Let's visualize by using scatter plot\n",
    "plot_scatter(x=\"Annual Income (k$)\", y=\"Spending Score (1-100)\", data=data_2d)"
   ]
  },
  {
   "cell_type": "markdown",
   "metadata": {},
   "source": [
    "**Question 1.** From the figure above, do you have any guess how many clusters it should be?"
   ]
  },
  {
   "cell_type": "code",
   "execution_count": null,
   "metadata": {},
   "outputs": [],
   "source": [
    "# Give your answer\n",
    "answer = pass\n",
    "\n",
    "check_answer_1(answer)"
   ]
  },
  {
   "cell_type": "markdown",
   "metadata": {},
   "source": [
    "Now, let's try to check if the clusters are the same as we expected."
   ]
  },
  {
   "cell_type": "code",
   "execution_count": null,
   "metadata": {},
   "outputs": [],
   "source": [
    "from sklearn.cluster import KMeans\n",
    "\n",
    "# Make an instance of clustering model: KMeans\n",
    "kmeans: KMeans = KMeans(n_clusters=answer)\n",
    "\n",
    "# Resulting the clusters\n",
    "clusters: np.ndarray = kmeans.fit_predict(X=data_2d[[\"Annual Income (k$)\", \"Spending Score (1-100)\"]])\n",
    "\n",
    "# Add column called 'cluster' to `data_2d`\n",
    "data_2d[\"cluster\"] = clusters"
   ]
  },
  {
   "cell_type": "code",
   "execution_count": null,
   "metadata": {},
   "outputs": [],
   "source": [
    "# Let's look at visualization, once again, but differ these points by own cluster\n",
    "plot_scatter(\n",
    "    x=\"Annual Income (k$)\", \n",
    "    y=\"Spending Score (1-100)\", \n",
    "    data=data_2d, \n",
    "    c=pass, \n",
    "    cmap=\"viridis\"\n",
    ")"
   ]
  },
  {
   "cell_type": "markdown",
   "metadata": {},
   "source": [
    "**Perfect!** Let's go back into the original data"
   ]
  },
  {
   "cell_type": "code",
   "execution_count": null,
   "metadata": {},
   "outputs": [],
   "source": [
    "# Look at first 5 rows\n",
    "pass"
   ]
  },
  {
   "cell_type": "markdown",
   "metadata": {},
   "source": [
    "Well, we know that we can only visualize a graph consisting of 3 features, right? Then, we can choose correct number of clusters based on the graph.\n",
    "\n",
    "However, **for data with higher dimension, how can we choose optimal number of clusters?**"
   ]
  },
  {
   "cell_type": "markdown",
   "metadata": {},
   "source": [
    "#### Elbow Method (K-Means)"
   ]
  },
  {
   "cell_type": "markdown",
   "metadata": {},
   "source": [
    "Source: https://www.geeksforgeeks.org/elbow-method-for-optimal-value-of-k-in-kmeans/"
   ]
  },
  {
   "cell_type": "code",
   "execution_count": null,
   "metadata": {},
   "outputs": [],
   "source": [
    "def elbow_method(\n",
    "    X: pd.DataFrame,\n",
    "    min_cluster_range: int,\n",
    "    max_cluster_range: int\n",
    ") -> None:\n",
    "    \"\"\"\n",
    "    Specify right number of cluster by doing elbow method\n",
    "\n",
    "    Parameters\n",
    "    ----------\n",
    "        X: pd.DataFrame\n",
    "            specified data\n",
    "\n",
    "        min_cluster_range: int\n",
    "            minimum number of probable range of clusters\n",
    "\n",
    "        max_cluster_range: int\n",
    "            maximum number of probable range of clusters\n",
    "    \"\"\"\n",
    "    # Within cluster sum of squares\n",
    "    wcss = []\n",
    "    for cluster in range(min_cluster_range, max_cluster_range+1):\n",
    "        kmeans = KMeans(n_clusters=cluster)\n",
    "        kmeans.fit(X)\n",
    "\n",
    "        wcss.append(kmeans.inertia_)\n",
    "\n",
    "    # Plot graph of elbow method\n",
    "    plt.plot(range(min_cluster_range, max_cluster_range+1), wcss)\n",
    "    plt.title(\"Elbow method\")\n",
    "    plt.xlabel(\"Number of clusters\")\n",
    "    plt.ylabel('WCSS')\n",
    "    plt.show()"
   ]
  },
  {
   "cell_type": "code",
   "execution_count": null,
   "metadata": {},
   "outputs": [],
   "source": [
    "elbow_method(\n",
    "    X=pass,\n",
    "    min_cluster_range=pass,\n",
    "    max_cluster_range=pass\n",
    ")"
   ]
  },
  {
   "cell_type": "markdown",
   "metadata": {},
   "source": [
    "#### Silhouette Analysis (All Clustering Models)"
   ]
  },
  {
   "cell_type": "markdown",
   "metadata": {},
   "source": [
    "Source: https://scikit-learn.org/stable/auto_examples/cluster/plot_kmeans_silhouette_analysis.html"
   ]
  },
  {
   "cell_type": "code",
   "execution_count": null,
   "metadata": {},
   "outputs": [],
   "source": [
    "from sklearn.metrics import silhouette_samples, silhouette_score\n",
    "import matplotlib.cm as cm\n",
    "\n",
    "def silhouette_analysis(\n",
    "    X: pd.DataFrame,\n",
    "    col_x: str,\n",
    "    col_y: str,\n",
    "    min_cluster_range: int,\n",
    "    max_cluster_range: int\n",
    ") -> None:\n",
    "    \"\"\"\n",
    "    Specify right number of cluster by doing silhoutte analysis\n",
    "\n",
    "    Parameters\n",
    "    ----------\n",
    "        X: pd.DataFrame\n",
    "            specified data\n",
    "\n",
    "        col_x: str\n",
    "            column of X, representing x-axis\n",
    "\n",
    "        col_y: str\n",
    "            column of X, representing y-axis\n",
    "\n",
    "        min_cluster_range: int\n",
    "            minimum number of probable range of clusters\n",
    "\n",
    "        max_cluster_range: int\n",
    "            maximum number of probable range of clusters\n",
    "    \"\"\"\n",
    "\n",
    "    range_n_clusters = range(min_cluster_range, max_cluster_range+1)\n",
    "\n",
    "    for n_clusters in range_n_clusters:\n",
    "        # Create a subplot with 1 row and 2 columns\n",
    "        fig, (ax1, ax2) = plt.subplots(1, 2)\n",
    "        fig.set_size_inches(18, 7)\n",
    "\n",
    "        # The 1st subplot is the silhouette plot\n",
    "        # The silhouette coefficient can range from -1, 1 but in this example all\n",
    "        # lie within [-0.1, 1]\n",
    "        ax1.set_xlim([-0.1, 1])\n",
    "        # The (n_clusters+1)*10 is for inserting blank space between silhouette\n",
    "        # plots of individual clusters, to demarcate them clearly.\n",
    "        ax1.set_ylim([0, len(X) + (n_clusters + 1) * 10])\n",
    "\n",
    "        # Initialize the clusterer with n_clusters value and a random generator\n",
    "        # seed of 10 for reproducibility.\n",
    "        clusterer = KMeans(n_clusters=n_clusters, random_state=10)\n",
    "        cluster_labels = clusterer.fit_predict(X)\n",
    "\n",
    "        # The silhouette_score gives the average value for all the samples.\n",
    "        # This gives a perspective into the density and separation of the formed\n",
    "        # clusters\n",
    "        silhouette_avg = silhouette_score(X, cluster_labels)\n",
    "        print(\n",
    "            \"For n_clusters =\",\n",
    "            n_clusters,\n",
    "            \"The average silhouette_score is :\",\n",
    "            silhouette_avg,\n",
    "        )\n",
    "\n",
    "        # Compute the silhouette scores for each sample\n",
    "        sample_silhouette_values = silhouette_samples(X, cluster_labels)\n",
    "\n",
    "        y_lower = 10\n",
    "        for i in range(n_clusters):\n",
    "            # Aggregate the silhouette scores for samples belonging to\n",
    "            # cluster i, and sort them\n",
    "            ith_cluster_silhouette_values = sample_silhouette_values[cluster_labels == i]\n",
    "\n",
    "            ith_cluster_silhouette_values.sort()\n",
    "\n",
    "            size_cluster_i = ith_cluster_silhouette_values.shape[0]\n",
    "            y_upper = y_lower + size_cluster_i\n",
    "\n",
    "            color = cm.nipy_spectral(float(i) / n_clusters)\n",
    "            ax1.fill_betweenx(\n",
    "                np.arange(y_lower, y_upper),\n",
    "                0,\n",
    "                ith_cluster_silhouette_values,\n",
    "                facecolor=color,\n",
    "                edgecolor=color,\n",
    "                alpha=0.7,\n",
    "            )\n",
    "\n",
    "            # Label the silhouette plots with their cluster numbers at the middle\n",
    "            ax1.text(-0.05, y_lower + 0.5 * size_cluster_i, str(i))\n",
    "\n",
    "            # Compute the new y_lower for next plot\n",
    "            y_lower = y_upper + 10  # 10 for the 0 samples\n",
    "\n",
    "        ax1.set_title(\"The silhouette plot for the various clusters.\")\n",
    "        ax1.set_xlabel(\"The silhouette coefficient values\")\n",
    "        ax1.set_ylabel(\"Cluster label\")\n",
    "\n",
    "        # The vertical line for average silhouette score of all the values\n",
    "        ax1.axvline(x=silhouette_avg, color=\"red\", linestyle=\"--\")\n",
    "\n",
    "        ax1.set_yticks([])  # Clear the yaxis labels / ticks\n",
    "        ax1.set_xticks([-0.1, 0, 0.2, 0.4, 0.6, 0.8, 1])\n",
    "\n",
    "        # 2nd Plot showing the actual clusters formed\n",
    "        colors = cm.nipy_spectral(cluster_labels.astype(float) / n_clusters)\n",
    "        ax2.scatter(\n",
    "            X[col_x], X[col_y], marker=\".\", s=30, lw=0, alpha=0.7, c=colors, edgecolor=\"k\"\n",
    "        )\n",
    "\n",
    "        # Labeling the clusters\n",
    "        centers = clusterer.cluster_centers_\n",
    "        columns = X.columns.tolist()\n",
    "        dim_x = columns.index(col_x)\n",
    "        dim_y = columns.index(col_y)\n",
    "        # Draw white circles at cluster centers\n",
    "        ax2.scatter(\n",
    "            centers[:, dim_x],\n",
    "            centers[:, dim_y],\n",
    "            marker=\"o\",\n",
    "            c=\"white\",\n",
    "            alpha=1,\n",
    "            s=200,\n",
    "            edgecolor=\"k\",\n",
    "        )\n",
    "\n",
    "        for i, c in enumerate(centers):\n",
    "            ax2.scatter(c[dim_x], c[dim_y], marker=\"$%d$\" % i, alpha=1, s=50, edgecolor=\"k\")\n",
    "\n",
    "        ax2.set_title(\"The visualization of the clustered data.\")\n",
    "        ax2.set_xlabel(\"Feature space for the 1st feature\")\n",
    "        ax2.set_ylabel(\"Feature space for the 2nd feature\")\n",
    "\n",
    "        plt.suptitle(\n",
    "            \"Silhouette analysis for KMeans clustering on sample data with n_clusters = %d\"\n",
    "            % n_clusters,\n",
    "            fontsize=14,\n",
    "            fontweight=\"bold\",\n",
    "        )\n",
    "\n",
    "    plt.show()"
   ]
  },
  {
   "cell_type": "code",
   "execution_count": null,
   "metadata": {},
   "outputs": [],
   "source": [
    "silhouette_analysis(\n",
    "    X=pass,\n",
    "    col_x=pass,\n",
    "    col_y=pass,\n",
    "    min_cluster_range=pass,\n",
    "    max_cluster_range=pass\n",
    ")"
   ]
  },
  {
   "cell_type": "markdown",
   "metadata": {},
   "source": [
    "Okay, I understood all of these, but **can we have other methods so we have intuitive insight from the clustering, especially with higher-dimensional data?**"
   ]
  },
  {
   "cell_type": "markdown",
   "metadata": {},
   "source": [
    "### Dimensionality Reduction"
   ]
  },
  {
   "attachments": {
    "image.png": {
     "image/png": "[encoded data removed]"
    }
   },
   "cell_type": "markdown",
   "metadata": {},
   "source": [
    "More or less, the idea is just like below:<br><br>\n",
    "![image.png](attachment:image.png)"
   ]
  },
  {
   "cell_type": "code",
   "execution_count": null,
   "metadata": {},
   "outputs": [],
   "source": [
    "from sklearn.decomposition import PCA\n",
    "\n",
    "# Make an instance of PCA\n",
    "pca = PCA(n_components=2)\n",
    "\n",
    "# Fit-transform using our-own PCA\n",
    "data_pca = pca.fit_transform(data)\n",
    "\n",
    "print(f\"Before PCA: {data.shape}\")\n",
    "print(f\"After PCA: {data_pca.shape}\")"
   ]
  },
  {
   "cell_type": "code",
   "execution_count": null,
   "metadata": {},
   "outputs": [],
   "source": [
    "# Let's visualize the data after applying PCA\n",
    "data_pca_df: pd.DataFrame = pd.DataFrame(data=data_pca, columns=[\"pca_1\", \"pca_2\"])\n",
    "\n",
    "plot_scatter(\n",
    "    x=\"pca_1\",\n",
    "    y=\"pca_2\",\n",
    "    data=data_pca_df,\n",
    ")"
   ]
  },
  {
   "cell_type": "markdown",
   "metadata": {},
   "source": [
    "**Question 2.** Based on the scatter plot above, what is optimal number of clusters should we choose?"
   ]
  },
  {
   "cell_type": "code",
   "execution_count": null,
   "metadata": {},
   "outputs": [],
   "source": [
    "# Answer the question with an integer number\n",
    "answer = pass\n",
    "\n",
    "check_answer_2(answer)"
   ]
  },
  {
   "cell_type": "code",
   "execution_count": null,
   "metadata": {},
   "outputs": [],
   "source": [
    "# Let's see how many clusters should we choose\n",
    "elbow_method(\n",
    "    X=data_pca,\n",
    "    min_cluster_range=2,\n",
    "    max_cluster_range=10\n",
    ")"
   ]
  },
  {
   "cell_type": "code",
   "execution_count": null,
   "metadata": {},
   "outputs": [],
   "source": [
    "# Make an instance of K-Means\n",
    "kmeans: KMeans = KMeans(n_clusters=answer)\n",
    "clusters: np.ndarray = kmeans.fit_predict(data_pca_df[[\"pca_1\", \"pca_2\"]])\n",
    "data_pca_df[\"cluster\"] = clusters\n",
    "\n",
    "# Let's visualize it more clearly\n",
    "plot_scatter(\n",
    "    x=\"pca_1\",\n",
    "    y=\"pca_2\",\n",
    "    data=data_pca_df,\n",
    "    c=data_pca_df[\"cluster\"],\n",
    "    cmap=\"viridis\"\n",
    ")"
   ]
  },
  {
   "cell_type": "markdown",
   "metadata": {},
   "source": [
    "However, the cost for this technique is **lost of information**."
   ]
  },
  {
   "cell_type": "code",
   "execution_count": null,
   "metadata": {},
   "outputs": [],
   "source": [
    "# Use other data\n",
    "X = data_2d.drop(\"cluster\", axis=1)\n",
    "\n",
    "# Using PCA\n",
    "pca = PCA(n_components=1)\n",
    "X_pca = pca.fit_transform(X.values)\n",
    "\n",
    "# Inverse transform using PCA\n",
    "X_inv: np.ndarray = pca.inverse_transform(X_pca)"
   ]
  },
  {
   "cell_type": "code",
   "execution_count": null,
   "metadata": {},
   "outputs": [],
   "source": [
    "# Plot the difference of 3 things\n",
    "plt.figure(figsize=(16, 5))\n",
    "\n",
    "plt.subplot(131)\n",
    "plt.scatter(X.values[:, 0], X.values[:, 1], s=20, c='b');\n",
    "plt.title(\"$X$\", fontsize=14)\n",
    "\n",
    "plt.subplot(132)\n",
    "plt.scatter(X_pca, np.zeros_like(X_pca), s=20, c='b');\n",
    "plt.yticks([])\n",
    "plt.title(\"$X_{pca}$\", fontsize=14);\n",
    "\n",
    "plt.subplot(133)\n",
    "plt.scatter(X_inv[:, 0], X_inv[:, 1], s=20, c='b')\n",
    "plt.title(\"$X_{inv}$\", fontsize=14);"
   ]
  },
  {
   "cell_type": "code",
   "execution_count": null,
   "metadata": {},
   "outputs": [],
   "source": [
    "# Define x-axis and y-axis\n",
    "x = [f\"PC{i}\" for i in range(1, pca.n_components_+1)]\n",
    "y = pca.explained_variance_ratio_.cumsum()\n",
    "\n",
    "# Plot Cumulated of Explained Variance\n",
    "plt.bar(x, y)\n",
    "plt.xlabel('Principal Components')\n",
    "plt.ylabel('Cumsum Explained Variance')\n",
    "plt.title(f\"Information Lost: {100 - round(y[-1]*100, 2)}%\")\n",
    "plt.show()"
   ]
  },
  {
   "cell_type": "markdown",
   "metadata": {},
   "source": [
    "If you need more explanation about this, **let this to be kak Dian's assessment**."
   ]
  },
  {
   "cell_type": "markdown",
   "metadata": {},
   "source": [
    "### Congratulations !!"
   ]
  },
  {
   "cell_type": "markdown",
   "metadata": {},
   "source": [
    "Probably, this is the last question. **How do we know, that number of clusters I define is absolutely correct?**"
   ]
  },
  {
   "cell_type": "markdown",
   "metadata": {},
   "source": [
    "**Question 3.** Is there any way to know what is the optimal and absolute number of clusters, such as advanced elbow-method?"
   ]
  },
  {
   "cell_type": "code",
   "execution_count": null,
   "metadata": {},
   "outputs": [],
   "source": [
    "# Give your answer by using 'True' or 'False'\n",
    "answer: Union[str, bool] = pass\n",
    "\n",
    "check_answer_3(answer)"
   ]
  },
  {
   "cell_type": "markdown",
   "metadata": {},
   "source": [
    "Before we end this, why don't we compare the result with **DBSCAN**"
   ]
  },
  {
   "cell_type": "markdown",
   "metadata": {},
   "source": [
    "### DBSCAN"
   ]
  },
  {
   "cell_type": "code",
   "execution_count": null,
   "metadata": {},
   "outputs": [],
   "source": [
    "from sklearn.cluster import DBSCAN\n",
    "\n",
    "# Make an instance of DBSCAN\n",
    "dbscan: DBSCAN = DBSCAN(eps=10, min_samples=5)\n",
    "dbscan.fit(X=X)\n",
    "\n",
    "# Add clusters into new column\n",
    "clustered_dbscan: pd.DataFrame = X.copy()\n",
    "clustered_dbscan[\"cluster\"] = dbscan.labels_"
   ]
  },
  {
   "cell_type": "code",
   "execution_count": null,
   "metadata": {},
   "outputs": [],
   "source": [
    "# Show 'clustered_dbscan' rows look like\n",
    "clustered_dbscan"
   ]
  },
  {
   "cell_type": "code",
   "execution_count": null,
   "metadata": {},
   "outputs": [],
   "source": [
    "plot_scatter(\n",
    "    x='Annual Income (k$)',\n",
    "    y='Spending Score (1-100)',\n",
    "    data=clustered_dbscan,\n",
    "    c=clustered_dbscan[\"cluster\"],\n",
    "    cmap=\"viridis\"\n",
    ")"
   ]
  },
  {
   "cell_type": "markdown",
   "metadata": {},
   "source": [
    "The result is not that bad, right? **However, KMeans is still winning over DBSCAN..**"
   ]
  }
 ],
 "metadata": {
  "kernelspec": {
   "display_name": "venv_sharing_session",
   "language": "python",
   "name": "python3"
  },
  "language_info": {
   "codemirror_mode": {
    "name": "ipython",
    "version": 3
   },
   "file_extension": ".py",
   "mimetype": "text/x-python",
   "name": "python",
   "nbconvert_exporter": "python",
   "pygments_lexer": "ipython3",
   "version": "3.8.15"
  }
 },
 "nbformat": 4,
 "nbformat_minor": 2
}
